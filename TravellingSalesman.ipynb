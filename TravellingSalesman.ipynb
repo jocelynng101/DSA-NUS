{
  "nbformat": 4,
  "nbformat_minor": 0,
  "metadata": {
    "colab": {
      "provenance": [],
      "include_colab_link": true
    },
    "kernelspec": {
      "name": "python3",
      "display_name": "Python 3"
    },
    "language_info": {
      "name": "python"
    }
  },
  "cells": [
    {
      "cell_type": "markdown",
      "metadata": {
        "id": "view-in-github",
        "colab_type": "text"
      },
      "source": [
        "<a href=\"https://colab.research.google.com/github/jocelynng101/Word-Embeddings-Medicial/blob/main/TravellingSalesman.ipynb\" target=\"_parent\"><img src=\"https://colab.research.google.com/assets/colab-badge.svg\" alt=\"Open In Colab\"/></a>"
      ]
    },
    {
      "cell_type": "code",
      "source": [
        "import random\n",
        "import math\n",
        "import time\n",
        "import statistics\n",
        "import numpy as np\n",
        "import matplotlib.pyplot as plt\n",
        "from prettytable import PrettyTable\n",
        "from itertools import permutations"
      ],
      "metadata": {
        "id": "T1pSSEw2TUWy"
      },
      "execution_count": 1,
      "outputs": []
    },
    {
      "cell_type": "markdown",
      "source": [
        "# Example Graph\n"
      ],
      "metadata": {
        "id": "vb0mv6yZFmTD"
      }
    },
    {
      "cell_type": "markdown",
      "source": [
        "United States where\n",
        "0. New York\n",
        "1. Los Angeles\n",
        "2. Chicago\n",
        "3. Minneapolis\n",
        "4. Denver\n",
        "5. Dallas\n",
        "6. Seattle\n",
        "7. Boston\n",
        "8. San Francisco\n",
        "9. St. Louis\n",
        "10. Houston\n",
        "11. Phoenix\n",
        "12. Salt Lake City"
      ],
      "metadata": {
        "id": "5f1Z65g8HbFP"
      }
    },
    {
      "cell_type": "code",
      "source": [
        "dist_matrix = [\n",
        "    [0, 2451, 713, 1018, 1631, 1374, 2408, 213, 2571, 875, 1420, 2145, 1972],\n",
        "    [2451, 0, 1745, 1524, 831, 1240, 959, 2596, 403, 1589, 1374, 357, 579],\n",
        "    [713, 1745, 0, 355, 920, 803, 1737, 851, 1858, 262, 940, 1453, 1260],\n",
        "    [1018, 1524, 355, 0, 700, 862, 1395, 1123, 1584, 466, 1056, 1280, 987],\n",
        "    [1631, 831, 920, 700, 0, 663, 1021, 1769, 949, 796, 879, 586, 371],\n",
        "    [1374, 1240, 803, 862, 663, 0, 1681, 1551, 1765, 547, 225, 887, 999],\n",
        "    [2408, 959, 1737, 1395, 1021, 1681, 0, 2493, 678, 1724, 1891, 1114, 701],\n",
        "    [213, 2596, 851, 1123, 1769, 1551, 2493, 0, 2699, 1038, 1605, 2300, 2099],\n",
        "    [2571, 403, 1858, 1584, 949, 1765, 678, 2699, 0, 1744, 1645, 653, 600],\n",
        "    [875, 1589, 262, 466, 796, 547, 1724, 1038, 1744, 0, 679, 1272, 1162],\n",
        "    [1420, 1374, 940, 1056, 879, 225, 1891, 1605, 1645, 679, 0, 1017, 1200],\n",
        "    [2145, 357, 1453, 1280, 586, 887, 1114, 2300, 653, 1272, 1017, 0, 504],\n",
        "    [1972, 579, 1260, 987, 371, 999, 701, 2099, 600, 1162, 1200, 504, 0]\n",
        "                ]"
      ],
      "metadata": {
        "id": "8ICrAsmOFmCi"
      },
      "execution_count": 16,
      "outputs": []
    },
    {
      "cell_type": "code",
      "source": [
        "# Smaller Example\n",
        "distances = [\n",
        "    [0, 2, 2, 5, 9, 3],\n",
        "    [2, 0, 4, 6, 7, 8],\n",
        "    [2, 4, 0, 8, 6, 3],\n",
        "    [5, 6, 8, 0, 4, 9],\n",
        "    [9, 7, 6, 4, 0, 10],\n",
        "    [3, 8, 3, 9, 10, 0]\n",
        "]"
      ],
      "metadata": {
        "id": "CIJyke-5L1oQ"
      },
      "execution_count": 3,
      "outputs": []
    },
    {
      "cell_type": "markdown",
      "source": [
        "# Our Solution"
      ],
      "metadata": {
        "id": "mS9MOCTMB_O-"
      }
    },
    {
      "cell_type": "markdown",
      "source": [
        "## Simulated Annealing"
      ],
      "metadata": {
        "id": "Ku2O08cE6JVf"
      }
    },
    {
      "cell_type": "markdown",
      "source": [
        "* Step 1: Start with a random tour and set an initial temperature and cooling schedule.\n",
        "* Step 2: Generate a neighboring solution by slightly modifying the current tour.\n",
        "* Step 3: Accept the neighboring solution if better, or with a probability if worse.\n",
        "* Step 4: Reduce the temperature according to the cooling schedule after each iteration.\n",
        "* Step 5: Stop when the temperature is low or after a set number of iterations.\n",
        "* Step 6: Output the best tour found during the process."
      ],
      "metadata": {
        "id": "eMuqMnRVKTa5"
      }
    },
    {
      "cell_type": "code",
      "source": [
        "# Total length of the route (sum of distances between consecutive cities)\n",
        "def total_distance(route, dist_matrix):\n",
        "    total = 0\n",
        "    for i in range(len(route) - 1):\n",
        "        total += dist_matrix[route[i]][route[i + 1]]\n",
        "    total += dist_matrix[route[-1]][route[0]]  # Return to the origin\n",
        "    return total\n",
        "\n",
        "# Create a random initial solution (random order of cities)\n",
        "def create_initial_solution(num_cities):\n",
        "    cities = list(range(num_cities))\n",
        "    return random.sample(cities, len(cities))\n",
        "\n",
        "# Swap two cities in the route\n",
        "def swap_cities(route):\n",
        "    new_route = route[:]\n",
        "    i, j = random.sample(range(len(route)), 2)\n",
        "    new_route[i], new_route[j] = new_route[j], new_route[i]\n",
        "    return new_route\n",
        "\n",
        "# Simulated Annealing algorithm for TSP\n",
        "def simulated_annealing(dist_matrix, initial_temp=1000, cooling_rate=0.995, num_iterations=10000):\n",
        "    start = time.time()\n",
        "\n",
        "    # Number of cities\n",
        "    num_cities = len(dist_matrix)\n",
        "\n",
        "    # Generate an initial solution\n",
        "    current_solution = create_initial_solution(num_cities)\n",
        "    current_distance = total_distance(current_solution, dist_matrix)\n",
        "\n",
        "    # Set the initial temperature\n",
        "    temperature = initial_temp\n",
        "\n",
        "    best_solution = current_solution\n",
        "    best_distance = current_distance\n",
        "\n",
        "    distances = []\n",
        "    iterations = []\n",
        "    times = []\n",
        "\n",
        "    # Simulated Annealing loop\n",
        "    for iteration in range(num_iterations):\n",
        "        # Create a new neighbor by swapping two cities\n",
        "        new_solution = swap_cities(current_solution)\n",
        "        new_distance = total_distance(new_solution, dist_matrix)\n",
        "\n",
        "        # If the new solution is better, accept it\n",
        "        if new_distance < current_distance:\n",
        "            current_solution = new_solution\n",
        "            current_distance = new_distance\n",
        "        else:\n",
        "            # If the new solution is worse, accept it with a probability\n",
        "            acceptance_probability = math.exp((current_distance - new_distance) / temperature)\n",
        "            if random.random() < acceptance_probability:\n",
        "                current_solution = new_solution\n",
        "                current_distance = new_distance\n",
        "\n",
        "        # Update the best solution found\n",
        "        if current_distance < best_distance:\n",
        "            best_solution = current_solution\n",
        "            best_distance = current_distance\n",
        "\n",
        "        # Store for results evaluation\n",
        "        if iteration % 10 == 0:\n",
        "            iterations.append(iteration)\n",
        "            distances.append(current_distance)\n",
        "\n",
        "            end = time.time()\n",
        "            current_time = end - start\n",
        "            times.append(current_time)\n",
        "\n",
        "\n",
        "        # Reduce the temperature\n",
        "        temperature *= cooling_rate\n",
        "\n",
        "    return best_solution, best_distance, iterations, distances, times\n",
        "\n",
        "def plot_solution(dist_matrix, solution):\n",
        "    # Plotting the route visually using the edge indices\n",
        "    x = [solution[i] for i in range(len(solution))]\n",
        "    y = [solution[(i+1)%len(solution)] for i in range(len(solution))]\n",
        "\n",
        "    plt.plot(x, y, marker='o')\n",
        "    plt.title(f\"Total Distance: {total_distance(solution, dist_matrix):.2f}\")\n",
        "    plt.show()\n",
        "\n",
        "def plot_progress(x_value, distances):\n",
        "    plt.plot(x_value, distances)\n",
        "    plt.show()"
      ],
      "metadata": {
        "id": "jHNDANORQOJj"
      },
      "execution_count": null,
      "outputs": []
    },
    {
      "cell_type": "code",
      "source": [
        "best_solution, best_distance, iterations, distances, times = simulated_annealing(dist_matrix)\n",
        "\n",
        "print(\"Best route:\", best_solution)\n",
        "print(\"Best distance:\", best_distance)"
      ],
      "metadata": {
        "colab": {
          "base_uri": "https://localhost:8080/"
        },
        "id": "5BzpftFWNFQa",
        "outputId": "684462e4-fe0c-4838-b585-aa2f6f93f196"
      },
      "execution_count": null,
      "outputs": [
        {
          "output_type": "stream",
          "name": "stdout",
          "text": [
            "Best route: [10, 5, 9, 0, 7, 2, 3, 4, 12, 6, 8, 1, 11]\n",
            "Best distance: 7293\n"
          ]
        }
      ]
    },
    {
      "cell_type": "code",
      "source": [
        "# Plot the best solution\n",
        "plot_solution(dist_matrix, best_solution)"
      ],
      "metadata": {
        "colab": {
          "base_uri": "https://localhost:8080/",
          "height": 452
        },
        "id": "OcS1PtqXz9pH",
        "outputId": "6e73a379-619a-4775-ac5f-a8c5b8fe1319"
      },
      "execution_count": null,
      "outputs": [
        {
          "output_type": "display_data",
          "data": {
            "text/plain": [
              "<Figure size 640x480 with 1 Axes>"
            ],
            "image/png": "[encoded data removed]"
          },
          "metadata": {}
        }
      ]
    },
    {
      "cell_type": "code",
      "source": [
        "# Plot progress across iterations\n",
        "plot_progress(iterations, distances)\n",
        "plt.title(\"Change in Distance Across Iterations\")\n"
      ],
      "metadata": {
        "colab": {
          "base_uri": "https://localhost:8080/",
          "height": 452
        },
        "id": "I7YtFS9oz95Z",
        "outputId": "fd53f916-b542-4e0e-84c8-966de4a010bd"
      },
      "execution_count": null,
      "outputs": [
        {
          "output_type": "display_data",
          "data": {
            "text/plain": [
              "<Figure size 640x480 with 1 Axes>"
            ],
            "image/png": "[encoded data removed]"
          },
          "metadata": {}
        }
      ]
    },
    {
      "cell_type": "code",
      "source": [
        "plot_progress(times,distances)\n",
        "plt.title(\"Change in Distance Over Time\")"
      ],
      "metadata": {
        "id": "_Idj6EjW1OWC",
        "colab": {
          "base_uri": "https://localhost:8080/",
          "height": 452
        },
        "outputId": "b12b37d7-78da-4c8c-e492-9a21d5d3f631"
      },
      "execution_count": null,
      "outputs": [
        {
          "output_type": "display_data",
          "data": {
            "text/plain": [
              "<Figure size 640x480 with 1 Axes>"
            ],
            "image/png": "[encoded data removed]"
          },
          "metadata": {}
        }
      ]
    },
    {
      "cell_type": "code",
      "source": [
        "distr = []\n",
        "for i in range(100):\n",
        "  _, best_distance, _, _, _ = simulated_annealing(dist_matrix)\n",
        "  distr.append(best_distance)"
      ],
      "metadata": {
        "id": "B_uForai3zEZ"
      },
      "execution_count": null,
      "outputs": []
    },
    {
      "cell_type": "code",
      "source": [
        "np.average(distr)"
      ],
      "metadata": {
        "colab": {
          "base_uri": "https://localhost:8080/"
        },
        "id": "hpJ0ZP5E4Dtk",
        "outputId": "6abf253e-d9ce-4e81-843a-6ce0e95b734d"
      },
      "execution_count": null,
      "outputs": [
        {
          "output_type": "execute_result",
          "data": {
            "text/plain": [
              "7489.89"
            ]
          },
          "metadata": {},
          "execution_count": 15
        }
      ]
    },
    {
      "cell_type": "code",
      "source": [
        "plt.hist(distr)"
      ],
      "metadata": {
        "colab": {
          "base_uri": "https://localhost:8080/",
          "height": 501
        },
        "id": "CWLygRPi4rsi",
        "outputId": "5a37cac6-16e0-4b59-80db-80dcc7a0ec70"
      },
      "execution_count": null,
      "outputs": [
        {
          "output_type": "execute_result",
          "data": {
            "text/plain": [
              "(array([44.,  5., 46.,  0.,  1.,  2.,  0.,  0.,  1.,  1.]),\n",
              " array([7293. , 7418.3, 7543.6, 7668.9, 7794.2, 7919.5, 8044.8, 8170.1,\n",
              "        8295.4, 8420.7, 8546. ]),\n",
              " <BarContainer object of 10 artists>)"
            ]
          },
          "metadata": {},
          "execution_count": 16
        },
        {
          "output_type": "display_data",
          "data": {
            "text/plain": [
              "<Figure size 640x480 with 1 Axes>"
            ],
            "image/png": "[encoded data removed]"
          },
          "metadata": {}
        }
      ]
    },
    {
      "cell_type": "markdown",
      "source": [
        "## Genetic Algorithms\n",
        "\n",
        "\n",
        "*   Step 1: Encode the Solution\n",
        "*   Step 2: Initialize the Population\n",
        "*   Step 3: Define the Fitness Solution\n",
        "*   Step 4: Apply Genetic Operators\n",
        "*   Step 5: Evaluate and Iterate\n",
        "*   Step 6: Retrieve the Optimal Solution\n",
        "\n",
        "\n",
        "\n",
        "\n"
      ],
      "metadata": {
        "id": "CrhX-SZ26NgK"
      }
    },
    {
      "cell_type": "code",
      "source": [
        "import random\n",
        "import numpy as np\n",
        "import matplotlib.pyplot as plt\n",
        "from prettytable import PrettyTable\n",
        "\n",
        "# The given distance matrix\n",
        "dist_matrix = [\n",
        "    [0, 2451, 713, 1018, 1631, 1374, 2408, 213, 2571, 875, 1420, 2145, 1972],\n",
        "    [2451, 0, 1745, 1524, 831, 1240, 959, 2596, 403, 1589, 1374, 357, 579],\n",
        "    [713, 1745, 0, 355, 920, 803, 1737, 851, 1858, 262, 940, 1453, 1260],\n",
        "    [1018, 1524, 355, 0, 700, 862, 1395, 1123, 1584, 466, 1056, 1280, 987],\n",
        "    [1631, 831, 920, 700, 0, 663, 1021, 1769, 949, 796, 879, 586, 371],\n",
        "    [1374, 1240, 803, 862, 663, 0, 1681, 1551, 1765, 547, 225, 887, 999],\n",
        "    [2408, 959, 1737, 1395, 1021, 1681, 0, 2493, 678, 1724, 1891, 1114, 701],\n",
        "    [213, 2596, 851, 1123, 1769, 1551, 2493, 0, 2699, 1038, 1605, 2300, 2099],\n",
        "    [2571, 403, 1858, 1584, 949, 1765, 678, 2699, 0, 1744, 1645, 653, 600],\n",
        "    [875, 1589, 262, 466, 796, 547, 1724, 1038, 1744, 0, 679, 1272, 1162],\n",
        "    [1420, 1374, 940, 1056, 879, 225, 1891, 1605, 1645, 679, 0, 1017, 1200],\n",
        "    [2145, 357, 1453, 1280, 586, 887, 1114, 2300, 653, 1272, 1017, 0, 504],\n",
        "    [1972, 579, 1260, 987, 371, 999, 701, 2099, 600, 1162, 1200, 504, 0]\n",
        "]\n",
        "\n",
        "# Define the fitness function (objective is to minimize the tour distance)\n",
        "def fitness_function(tour, dist_matrix):\n",
        "    distance = sum(dist_matrix[tour[i]][tour[i + 1]] for i in range(len(tour) - 1))\n",
        "    distance += dist_matrix[tour[-1]][tour[0]]  # Return to the starting city\n",
        "    return -distance  # Negate for maximization in the genetic algorithm\n",
        "\n",
        "# Create the initial population\n",
        "def create_initial_population(size, num_cities):\n",
        "    population = [random.sample(range(num_cities), num_cities) for _ in range(size)]\n",
        "    return population\n",
        "\n",
        "# Selection function with tournament selection\n",
        "def selection(population, fitnesses, tournament_size=3):\n",
        "    tournament_size = min(tournament_size, len(population))  # Ensure tournament_size does not exceed population size\n",
        "    selected = []\n",
        "    for _ in range(len(population)):\n",
        "        tournament = random.sample(list(zip(population, fitnesses)), tournament_size)\n",
        "        winner = max(tournament, key=lambda x: x[1])[0]\n",
        "        selected.append(winner)\n",
        "    return selected\n",
        "\n",
        "# Order Crossover function for TSP\n",
        "def crossover(parent1, parent2):\n",
        "    size = len(parent1)\n",
        "    start, end = sorted(random.sample(range(size), 2))\n",
        "    child = [None] * size\n",
        "    child[start:end] = parent1[start:end]\n",
        "\n",
        "    # Fill the remaining cities in order from parent2\n",
        "    pointer = end\n",
        "    for city in parent2:\n",
        "        if city not in child:\n",
        "            if pointer >= size:\n",
        "                pointer = 0\n",
        "            child[pointer] = city\n",
        "            pointer += 1\n",
        "    return child\n",
        "\n",
        "# Mutation function using swap mutation\n",
        "def mutation(individual, mutation_rate):\n",
        "    if random.random() < mutation_rate:\n",
        "        i, j = random.sample(range(len(individual)), 2)\n",
        "        individual[i], individual[j] = individual[j], individual[i]\n",
        "    return individual\n",
        "\n",
        "# Main genetic algorithm function for TSP\n",
        "def genetic_algorithm_tsp(population_size, num_cities, dist_matrix, generations, mutation_rate):\n",
        "    population = create_initial_population(population_size, num_cities)\n",
        "    best_performer = None\n",
        "    best_fitness = -float('inf')\n",
        "\n",
        "    # Prepare for plotting\n",
        "    best_fitnesses = []\n",
        "    table = PrettyTable()\n",
        "    table.field_names = [\"Generation\", \"Best Tour\", \"Best Distance\"]\n",
        "\n",
        "    for generation in range(generations):\n",
        "        fitnesses = [fitness_function(ind, dist_matrix) for ind in population]\n",
        "\n",
        "        # Track best individual\n",
        "        generation_best_individual = max(zip(population, fitnesses), key=lambda x: x[1])[0]\n",
        "        generation_best_fitness = max(fitnesses)\n",
        "\n",
        "        if generation_best_fitness > best_fitness:\n",
        "            best_fitness = generation_best_fitness\n",
        "            best_performer = generation_best_individual\n",
        "\n",
        "        # Record best performer and distance for this generation\n",
        "        best_distance = -generation_best_fitness\n",
        "        best_fitnesses.append(best_distance)\n",
        "        table.add_row([generation + 1, generation_best_individual, best_distance])\n",
        "\n",
        "        # Selection and breeding for the next generation\n",
        "        population = selection(population, fitnesses)\n",
        "        next_population = []\n",
        "\n",
        "        for i in range(0, len(population), 2):\n",
        "            parent1 = population[i]\n",
        "            parent2 = population[i + 1] if i + 1 < len(population) else population[0]\n",
        "            child = crossover(parent1, parent2)\n",
        "            next_population.append(mutation(child, mutation_rate))\n",
        "\n",
        "        population = next_population\n",
        "\n",
        "    # Print the table of best individuals by generation\n",
        "    print(table)\n",
        "\n",
        "    # Plot the best distance found over generations\n",
        "    plt.plot(range(1, generations + 1), best_fitnesses, color='blue', label='Best Distance')\n",
        "    plt.xlabel('Generation')\n",
        "    plt.ylabel('Distance')\n",
        "    plt.title('Best Distance over Generations')\n",
        "    plt.legend()\n",
        "    plt.show()\n",
        "\n",
        "    return best_performer, -best_fitness  # Return tour and total distance\n",
        "\n",
        "# Parameters for the genetic algorithm\n",
        "num_cities = 13  # As per the size of the provided dist_matrix\n",
        "population_size = 1000  # You may want to experiment with this for larger problems\n",
        "generations = 50\n",
        "mutation_rate = 0.1\n",
        "\n",
        "# Run the genetic algorithm\n",
        "best_tour, best_distance = genetic_algorithm_tsp(population_size, num_cities, dist_matrix, generations, mutation_rate)\n",
        "print(\"Best tour:\", best_tour)\n",
        "print(\"Shortest distance:\", best_distance)\n"
      ],
      "metadata": {
        "id": "It3gZYYg6QXp",
        "colab": {
          "base_uri": "https://localhost:8080/",
          "height": 1000
        },
        "outputId": "916ba1d5-370c-43dd-ee62-3e01aba4c24b"
      },
      "execution_count": 21,
      "outputs": [
        {
          "output_type": "stream",
          "name": "stdout",
          "text": [
            "+------------+--------------------------------------------+---------------+\n",
            "| Generation |                 Best Tour                  | Best Distance |\n",
            "+------------+--------------------------------------------+---------------+\n",
            "|     1      | [3, 12, 6, 8, 10, 9, 2, 7, 0, 5, 1, 11, 4] |     10273     |\n",
            "|     2      | [10, 8, 6, 12, 1, 11, 4, 9, 0, 7, 2, 3, 5] |      8723     |\n",
            "|     3      | [8, 6, 11, 10, 5, 12, 3, 0, 7, 2, 9, 4, 1] |      9394     |\n",
            "|     4      | [2, 9, 4, 10, 11, 1, 6, 12, 8, 5, 3, 0, 7] |     10280     |\n",
            "|     5      | [8, 2, 3, 0, 7, 9, 10, 5, 4, 12, 6, 11, 1] |      8995     |\n",
            "|     6      | [4, 5, 10, 11, 1, 6, 12, 8, 2, 7, 0, 3, 9] |      9724     |\n",
            "|     7      | [9, 3, 4, 5, 10, 11, 1, 6, 12, 8, 2, 7, 0] |      9485     |\n",
            "|     8      | [4, 5, 10, 11, 1, 6, 12, 8, 2, 7, 0, 3, 9] |      9724     |\n",
            "|     9      | [4, 5, 10, 11, 1, 6, 12, 8, 2, 7, 0, 9, 3] |      9485     |\n",
            "|     10     | [5, 10, 11, 3, 1, 6, 12, 8, 2, 7, 0, 9, 4] |     11562     |\n",
            "|     11     | [0, 9, 4, 3, 1, 5, 10, 11, 6, 12, 8, 2, 7] |     11714     |\n",
            "|     12     | [1, 5, 12, 8, 2, 7, 10, 11, 6, 0, 9, 4, 3] |     15587     |\n",
            "|     13     | [6, 0, 9, 4, 3, 7, 1, 5, 12, 8, 2, 10, 11] |     16266     |\n",
            "|     14     | [4, 3, 7, 1, 5, 12, 9, 10, 11, 8, 6, 0, 2] |     14888     |\n",
            "|     15     | [1, 5, 12, 9, 10, 6, 0, 2, 11, 8, 4, 3, 7] |     16566     |\n",
            "|     16     | [6, 4, 11, 8, 0, 3, 7, 2, 1, 5, 12, 9, 10] |     15539     |\n",
            "|     17     | [6, 4, 11, 8, 0, 3, 7, 2, 1, 5, 12, 9, 10] |     15539     |\n",
            "|     18     | [12, 9, 10, 8, 0, 3, 7, 2, 1, 6, 4, 11, 5] |     15246     |\n",
            "|     19     | [6, 4, 11, 5, 0, 3, 7, 2, 12, 9, 10, 8, 1] |     12968     |\n",
            "|     20     | [4, 11, 1, 5, 0, 3, 7, 2, 12, 9, 10, 8, 6] |     12994     |\n",
            "|     21     | [10, 8, 12, 5, 0, 3, 7, 2, 6, 4, 11, 1, 9] |     13579     |\n",
            "|     22     | [12, 5, 0, 3, 7, 1, 9, 2, 6, 4, 11, 10, 8] |     15567     |\n",
            "|     23     | [1, 5, 0, 3, 7, 12, 9, 2, 6, 4, 11, 10, 8] |     14687     |\n",
            "|     24     | [8, 5, 0, 3, 7, 12, 9, 2, 6, 4, 11, 1, 10] |     15523     |\n",
            "|     25     | [8, 5, 0, 3, 7, 12, 9, 2, 6, 4, 11, 1, 10] |     15523     |\n",
            "|     26     | [11, 1, 10, 9, 7, 12, 3, 2, 8, 5, 0, 6, 4] |     15901     |\n",
            "|     27     | [5, 0, 6, 4, 7, 12, 3, 2, 11, 1, 10, 9, 8] |     17385     |\n",
            "|     28     | [7, 12, 1, 10, 9, 8, 3, 2, 11, 5, 0, 6, 4] |     17326     |\n",
            "|     29     | [12, 1, 10, 9, 8, 3, 2, 11, 4, 5, 0, 6, 7] |     17391     |\n",
            "|     30     | [10, 9, 8, 3, 2, 6, 7, 11, 4, 5, 0, 12, 1] |     17440     |\n",
            "|     31     | [1, 9, 8, 3, 2, 6, 7, 11, 4, 5, 0, 12, 10] |     18971     |\n",
            "|     32     | [3, 2, 6, 0, 12, 10, 7, 11, 4, 5, 1, 9, 8] |     18983     |\n",
            "|     33     | [3, 2, 6, 0, 12, 10, 7, 11, 4, 5, 1, 9, 8] |     18983     |\n",
            "|     34     | [9, 8, 6, 0, 12, 10, 3, 2, 7, 11, 4, 5, 1] |     16642     |\n",
            "|     35     | [6, 0, 12, 10, 3, 2, 7, 5, 1, 11, 4, 9, 8] |     14794     |\n",
            "|     36     | [6, 0, 12, 10, 3, 2, 7, 5, 1, 11, 4, 9, 8] |     14794     |\n",
            "|     37     | [8, 0, 12, 10, 3, 2, 7, 5, 1, 11, 6, 4, 9] |     15828     |\n",
            "|     38     | [8, 0, 12, 10, 3, 2, 7, 5, 1, 11, 6, 4, 9] |     15828     |\n",
            "|     39     | [10, 3, 2, 7, 6, 4, 9, 5, 1, 11, 8, 0, 12] |     15112     |\n",
            "|     40     | [6, 4, 9, 11, 8, 0, 12, 5, 1, 10, 3, 2, 7] |     16653     |\n",
            "|     41     | [0, 12, 1, 10, 3, 2, 7, 5, 6, 4, 9, 11, 8] |     15732     |\n",
            "|     42     | [12, 1, 10, 3, 2, 8, 7, 5, 6, 4, 9, 11, 0] |     18359     |\n",
            "|     43     | [4, 9, 11, 0, 2, 12, 1, 10, 3, 8, 7, 5, 6] |     17731     |\n",
            "|     44     | [11, 0, 2, 12, 5, 6, 1, 10, 3, 8, 7, 4, 9] |     18307     |\n",
            "|     45     | [9, 0, 2, 12, 5, 6, 1, 11, 10, 3, 8, 7, 4] |     15765     |\n",
            "|     46     | [2, 6, 4, 12, 5, 7, 1, 11, 10, 3, 8, 9, 0] |     15621     |\n",
            "|     47     | [9, 0, 4, 12, 5, 7, 1, 11, 10, 3, 2, 6, 8] |     14967     |\n",
            "|     48     | [4, 12, 5, 7, 1, 6, 8, 11, 10, 3, 2, 9, 0] |     13003     |\n",
            "|     49     | [3, 2, 9, 0, 1, 6, 8, 11, 10, 4, 12, 5, 7] |     12173     |\n",
            "|     50     | [5, 7, 9, 0, 3, 2, 1, 6, 8, 11, 10, 4, 12] |     12138     |\n",
            "+------------+--------------------------------------------+---------------+\n"
          ]
        },
        {
          "output_type": "display_data",
          "data": {
            "text/plain": [
              "<Figure size 640x480 with 1 Axes>"
            ],
            "image/png": "[encoded data removed]"
          },
          "metadata": {}
        },
        {
          "output_type": "stream",
          "name": "stdout",
          "text": [
            "Best tour: [10, 8, 6, 12, 1, 11, 4, 9, 0, 7, 2, 3, 5]\n",
            "Shortest distance: 8723\n"
          ]
        }
      ]
    },
    {
      "cell_type": "markdown",
      "source": [
        "# Best Known Solutions of the Travelling Salesman Problem for comparison\n"
      ],
      "metadata": {
        "id": "8GB25e2oBUu-"
      }
    },
    {
      "cell_type": "markdown",
      "source": [
        "## Brute-Force Approach (Exact)"
      ],
      "metadata": {
        "id": "a-CceZWHBgwi"
      }
    },
    {
      "cell_type": "markdown",
      "source": [
        "* Step 1. calculate the total number of tours.\n",
        "* Step 2. draw and list all the possible tours\n",
        "* Step 3. calculate the distance of each tour.\n",
        "* Step 4. choose the shortest tour, this is the optimal solution"
      ],
      "metadata": {
        "id": "p1KpDSrHF6z3"
      }
    },
    {
      "cell_type": "code",
      "execution_count": null,
      "metadata": {
        "id": "UmWnFNTgBEf1"
      },
      "outputs": [],
      "source": [
        "# code from from w3schools: https://www.w3schools.com/dsa/dsa_ref_traveling_salesman.php\n",
        "def calculate_distance(route, distances):\n",
        "    total_distance = 0\n",
        "    for i in range(len(route) - 1):\n",
        "        total_distance += distances[route[i]][route[i + 1]]\n",
        "    total_distance += distances[route[-1]][route[0]]\n",
        "    return total_distance\n",
        "\n",
        "def brute_force_tsp(distances):\n",
        "    start = time.time()\n",
        "    n = len(distances)\n",
        "    cities = list(range(1, n))\n",
        "    shortest_route = None\n",
        "    min_distance = float('inf')\n",
        "\n",
        "    for perm in permutations(cities):\n",
        "        current_route = [0] + list(perm)\n",
        "        current_distance = calculate_distance(current_route, distances)\n",
        "\n",
        "        if current_distance < min_distance:\n",
        "            min_distance = current_distance\n",
        "            shortest_route = current_route\n",
        "\n",
        "    shortest_route.append(0)\n",
        "\n",
        "    end = time.time()\n",
        "    total_time = end - start\n",
        "\n",
        "    return shortest_route, min_distance, total_time"
      ]
    },
    {
      "cell_type": "code",
      "source": [
        "route, total_distance, times = brute_force_tsp(dist_matrix)\n",
        "print(\"Route:\", route)\n",
        "print(\"Total distance:\", total_distance)"
      ],
      "metadata": {
        "id": "Ln88sqFTKaeJ",
        "colab": {
          "base_uri": "https://localhost:8080/",
          "height": 329
        },
        "outputId": "d4dedd86-3345-4233-9784-f566d7bf39d9"
      },
      "execution_count": null,
      "outputs": [
        {
          "output_type": "error",
          "ename": "KeyboardInterrupt",
          "evalue": "",
          "traceback": [
            "\u001b[0;31m---------------------------------------------------------------------------\u001b[0m",
            "\u001b[0;31mKeyboardInterrupt\u001b[0m                         Traceback (most recent call last)",
            "\u001b[0;32m<ipython-input-7-0ec92a2f11bb>\u001b[0m in \u001b[0;36m<cell line: 1>\u001b[0;34m()\u001b[0m\n\u001b[0;32m----> 1\u001b[0;31m \u001b[0mroute\u001b[0m\u001b[0;34m,\u001b[0m \u001b[0mtotal_distance\u001b[0m\u001b[0;34m,\u001b[0m \u001b[0mtimes\u001b[0m \u001b[0;34m=\u001b[0m \u001b[0mbrute_force_tsp\u001b[0m\u001b[0;34m(\u001b[0m\u001b[0mdist_matrix\u001b[0m\u001b[0;34m)\u001b[0m\u001b[0;34m\u001b[0m\u001b[0;34m\u001b[0m\u001b[0m\n\u001b[0m\u001b[1;32m      2\u001b[0m \u001b[0mprint\u001b[0m\u001b[0;34m(\u001b[0m\u001b[0;34m\"Route:\"\u001b[0m\u001b[0;34m,\u001b[0m \u001b[0mroute\u001b[0m\u001b[0;34m)\u001b[0m\u001b[0;34m\u001b[0m\u001b[0;34m\u001b[0m\u001b[0m\n\u001b[1;32m      3\u001b[0m \u001b[0mprint\u001b[0m\u001b[0;34m(\u001b[0m\u001b[0;34m\"Total distance:\"\u001b[0m\u001b[0;34m,\u001b[0m \u001b[0mtotal_distance\u001b[0m\u001b[0;34m)\u001b[0m\u001b[0;34m\u001b[0m\u001b[0;34m\u001b[0m\u001b[0m\n",
            "\u001b[0;32m<ipython-input-1-a23ed1fdc0e8>\u001b[0m in \u001b[0;36mbrute_force_tsp\u001b[0;34m(distances)\u001b[0m\n\u001b[1;32m     16\u001b[0m     \u001b[0;32mfor\u001b[0m \u001b[0mperm\u001b[0m \u001b[0;32min\u001b[0m \u001b[0mpermutations\u001b[0m\u001b[0;34m(\u001b[0m\u001b[0mcities\u001b[0m\u001b[0;34m)\u001b[0m\u001b[0;34m:\u001b[0m\u001b[0;34m\u001b[0m\u001b[0;34m\u001b[0m\u001b[0m\n\u001b[1;32m     17\u001b[0m         \u001b[0mcurrent_route\u001b[0m \u001b[0;34m=\u001b[0m \u001b[0;34m[\u001b[0m\u001b[0;36m0\u001b[0m\u001b[0;34m]\u001b[0m \u001b[0;34m+\u001b[0m \u001b[0mlist\u001b[0m\u001b[0;34m(\u001b[0m\u001b[0mperm\u001b[0m\u001b[0;34m)\u001b[0m\u001b[0;34m\u001b[0m\u001b[0;34m\u001b[0m\u001b[0m\n\u001b[0;32m---> 18\u001b[0;31m         \u001b[0mcurrent_distance\u001b[0m \u001b[0;34m=\u001b[0m \u001b[0mcalculate_distance\u001b[0m\u001b[0;34m(\u001b[0m\u001b[0mcurrent_route\u001b[0m\u001b[0;34m,\u001b[0m \u001b[0mdistances\u001b[0m\u001b[0;34m)\u001b[0m\u001b[0;34m\u001b[0m\u001b[0;34m\u001b[0m\u001b[0m\n\u001b[0m\u001b[1;32m     19\u001b[0m \u001b[0;34m\u001b[0m\u001b[0m\n\u001b[1;32m     20\u001b[0m         \u001b[0;32mif\u001b[0m \u001b[0mcurrent_distance\u001b[0m \u001b[0;34m<\u001b[0m \u001b[0mmin_distance\u001b[0m\u001b[0;34m:\u001b[0m\u001b[0;34m\u001b[0m\u001b[0;34m\u001b[0m\u001b[0m\n",
            "\u001b[0;32m<ipython-input-1-a23ed1fdc0e8>\u001b[0m in \u001b[0;36mcalculate_distance\u001b[0;34m(route, distances)\u001b[0m\n\u001b[1;32m      3\u001b[0m     \u001b[0mtotal_distance\u001b[0m \u001b[0;34m=\u001b[0m \u001b[0;36m0\u001b[0m\u001b[0;34m\u001b[0m\u001b[0;34m\u001b[0m\u001b[0m\n\u001b[1;32m      4\u001b[0m     \u001b[0;32mfor\u001b[0m \u001b[0mi\u001b[0m \u001b[0;32min\u001b[0m \u001b[0mrange\u001b[0m\u001b[0;34m(\u001b[0m\u001b[0mlen\u001b[0m\u001b[0;34m(\u001b[0m\u001b[0mroute\u001b[0m\u001b[0;34m)\u001b[0m \u001b[0;34m-\u001b[0m \u001b[0;36m1\u001b[0m\u001b[0;34m)\u001b[0m\u001b[0;34m:\u001b[0m\u001b[0;34m\u001b[0m\u001b[0;34m\u001b[0m\u001b[0m\n\u001b[0;32m----> 5\u001b[0;31m         \u001b[0mtotal_distance\u001b[0m \u001b[0;34m+=\u001b[0m \u001b[0mdistances\u001b[0m\u001b[0;34m[\u001b[0m\u001b[0mroute\u001b[0m\u001b[0;34m[\u001b[0m\u001b[0mi\u001b[0m\u001b[0;34m]\u001b[0m\u001b[0;34m]\u001b[0m\u001b[0;34m[\u001b[0m\u001b[0mroute\u001b[0m\u001b[0;34m[\u001b[0m\u001b[0mi\u001b[0m \u001b[0;34m+\u001b[0m \u001b[0;36m1\u001b[0m\u001b[0;34m]\u001b[0m\u001b[0;34m]\u001b[0m\u001b[0;34m\u001b[0m\u001b[0;34m\u001b[0m\u001b[0m\n\u001b[0m\u001b[1;32m      6\u001b[0m     \u001b[0mtotal_distance\u001b[0m \u001b[0;34m+=\u001b[0m \u001b[0mdistances\u001b[0m\u001b[0;34m[\u001b[0m\u001b[0mroute\u001b[0m\u001b[0;34m[\u001b[0m\u001b[0;34m-\u001b[0m\u001b[0;36m1\u001b[0m\u001b[0;34m]\u001b[0m\u001b[0;34m]\u001b[0m\u001b[0;34m[\u001b[0m\u001b[0mroute\u001b[0m\u001b[0;34m[\u001b[0m\u001b[0;36m0\u001b[0m\u001b[0;34m]\u001b[0m\u001b[0;34m]\u001b[0m\u001b[0;34m\u001b[0m\u001b[0;34m\u001b[0m\u001b[0m\n\u001b[1;32m      7\u001b[0m     \u001b[0;32mreturn\u001b[0m \u001b[0mtotal_distance\u001b[0m\u001b[0;34m\u001b[0m\u001b[0;34m\u001b[0m\u001b[0m\n",
            "\u001b[0;31mKeyboardInterrupt\u001b[0m: "
          ]
        }
      ]
    },
    {
      "cell_type": "code",
      "source": [
        "plot_solution(dist_matrix, route)"
      ],
      "metadata": {
        "colab": {
          "base_uri": "https://localhost:8080/",
          "height": 144
        },
        "id": "YaZ3Ls4Wq8kg",
        "outputId": "1c3bbfc5-7acd-4439-c598-c1167ec6f4b6"
      },
      "execution_count": null,
      "outputs": [
        {
          "output_type": "error",
          "ename": "NameError",
          "evalue": "name 'route' is not defined",
          "traceback": [
            "\u001b[0;31m---------------------------------------------------------------------------\u001b[0m",
            "\u001b[0;31mNameError\u001b[0m                                 Traceback (most recent call last)",
            "\u001b[0;32m<ipython-input-8-64d80d90d052>\u001b[0m in \u001b[0;36m<cell line: 1>\u001b[0;34m()\u001b[0m\n\u001b[0;32m----> 1\u001b[0;31m \u001b[0mplot_solution\u001b[0m\u001b[0;34m(\u001b[0m\u001b[0mdist_matrix\u001b[0m\u001b[0;34m,\u001b[0m \u001b[0mroute\u001b[0m\u001b[0;34m)\u001b[0m\u001b[0;34m\u001b[0m\u001b[0;34m\u001b[0m\u001b[0m\n\u001b[0m",
            "\u001b[0;31mNameError\u001b[0m: name 'route' is not defined"
          ]
        }
      ]
    },
    {
      "cell_type": "code",
      "source": [
        "plot_progress(times, distances)"
      ],
      "metadata": {
        "id": "0d75CFwIrR_3"
      },
      "execution_count": null,
      "outputs": []
    },
    {
      "cell_type": "markdown",
      "source": [
        "Note: doesn't work well with the large example matrix (>6 min)"
      ],
      "metadata": {
        "id": "ISszfQNOKunJ"
      }
    },
    {
      "cell_type": "markdown",
      "source": [
        "## Branch and Bound Method (Exact)"
      ],
      "metadata": {
        "id": "j3EXS8jFBl8k"
      }
    },
    {
      "cell_type": "markdown",
      "source": [
        "* Step 1: Choose a start node.\n",
        "* Step 2: Set bound to a very large value, let's say infinity.\n",
        "* Step 3: Choose the cheapest arc between the current and unvisited node and\n",
        "add the distance to the current distance and repeat while the current\n",
        "distance is less than the bound.\n",
        "* Step 4: If current distance is less than bound, then we are done\n",
        "* Step 5: Add up the distance and bound will be equal to the current distance.\n",
        "* Step 6: Repeat step 5 until all the arcs have been covered"
      ],
      "metadata": {
        "id": "ZX9z3bJ6EP6T"
      }
    },
    {
      "cell_type": "code",
      "source": [
        "# # Python3 program to solve\n",
        "# # Traveling Salesman Problem using\n",
        "# # Branch and Bound.\n",
        "# maxsize = float('inf')\n",
        "\n",
        "# # Function to copy temporary solution\n",
        "# # to the final solution\n",
        "# def copyToFinal(curr_path):\n",
        "# \tfinal_path[:N + 1] = curr_path[:]\n",
        "# \tfinal_path[N] = curr_path[0]\n",
        "\n",
        "# # Function to find the minimum edge cost\n",
        "# # having an end at the vertex i\n",
        "# def firstMin(adj, i):\n",
        "# \tmin = maxsize\n",
        "# \tfor k in range(N):\n",
        "# \t\tif adj[i][k] < min and i != k:\n",
        "# \t\t\tmin = adj[i][k]\n",
        "\n",
        "# \treturn min\n",
        "\n",
        "# # function to find the second minimum edge\n",
        "# # cost having an end at the vertex i\n",
        "# def secondMin(adj, i):\n",
        "# \tfirst, second = maxsize, maxsize\n",
        "# \tfor j in range(N):\n",
        "# \t\tif i == j:\n",
        "# \t\t\tcontinue\n",
        "# \t\tif adj[i][j] <= first:\n",
        "# \t\t\tsecond = first\n",
        "# \t\t\tfirst = adj[i][j]\n",
        "\n",
        "# \t\telif(adj[i][j] <= second and\n",
        "# \t\t\tadj[i][j] != first):\n",
        "# \t\t\tsecond = adj[i][j]\n",
        "\n",
        "# \treturn second\n",
        "\n",
        "# # function that takes as arguments:\n",
        "# # curr_bound -> lower bound of the root node\n",
        "# # curr_weight-> stores the weight of the path so far\n",
        "# # level-> current level while moving\n",
        "# # in the search space tree\n",
        "# # curr_path[] -> where the solution is being stored\n",
        "# # which would later be copied to final_path[]\n",
        "# def TSPRec(adj, curr_bound, curr_weight,\n",
        "# \t\t\tlevel, curr_path, visited):\n",
        "# \tglobal final_res\n",
        "\n",
        "# \t# base case is when we have reached level N\n",
        "# \t# which means we have covered all the nodes once\n",
        "# \tif level == N:\n",
        "\n",
        "# \t\t# check if there is an edge from\n",
        "# \t\t# last vertex in path back to the first vertex\n",
        "# \t\tif adj[curr_path[level - 1]][curr_path[0]] != 0:\n",
        "\n",
        "# \t\t\t# curr_res has the total weight\n",
        "# \t\t\t# of the solution we got\n",
        "# \t\t\tcurr_res = curr_weight + adj[curr_path[level - 1]]\\\n",
        "# \t\t\t\t\t\t\t\t\t\t[curr_path[0]]\n",
        "# \t\t\tif curr_res < final_res:\n",
        "# \t\t\t\tcopyToFinal(curr_path)\n",
        "# \t\t\t\tfinal_res = curr_res\n",
        "# \t\treturn\n",
        "\n",
        "# \t# for any other level iterate for all vertices\n",
        "# \t# to build the search space tree recursively\n",
        "# \tfor i in range(N):\n",
        "\n",
        "# \t\t# Consider next vertex if it is not same\n",
        "# \t\t# (diagonal entry in adjacency matrix and\n",
        "# \t\t# not visited already)\n",
        "# \t\tif (adj[curr_path[level-1]][i] != 0 and\n",
        "# \t\t\t\t\t\t\tvisited[i] == False):\n",
        "# \t\t\ttemp = curr_bound\n",
        "# \t\t\tcurr_weight += adj[curr_path[level - 1]][i]\n",
        "\n",
        "# \t\t\t# different computation of curr_bound\n",
        "# \t\t\t# for level 2 from the other levels\n",
        "# \t\t\tif level == 1:\n",
        "# \t\t\t\tcurr_bound -= ((firstMin(adj, curr_path[level - 1]) +\n",
        "# \t\t\t\t\t\t\t\tfirstMin(adj, i)) / 2)\n",
        "# \t\t\telse:\n",
        "# \t\t\t\tcurr_bound -= ((secondMin(adj, curr_path[level - 1]) +\n",
        "# \t\t\t\t\t\t\t\tfirstMin(adj, i)) / 2)\n",
        "\n",
        "# \t\t\t# curr_bound + curr_weight is the actual lower bound\n",
        "# \t\t\t# for the node that we have arrived on.\n",
        "# \t\t\t# If current lower bound < final_res,\n",
        "# \t\t\t# we need to explore the node further\n",
        "# \t\t\tif curr_bound + curr_weight < final_res:\n",
        "# \t\t\t\tcurr_path[level] = i\n",
        "# \t\t\t\tvisited[i] = True\n",
        "\n",
        "# \t\t\t\t# call TSPRec for the next level\n",
        "# \t\t\t\tTSPRec(adj, curr_bound, curr_weight,\n",
        "# \t\t\t\t\tlevel + 1, curr_path, visited)\n",
        "\n",
        "# \t\t\t# Else we have to prune the node by resetting\n",
        "# \t\t\t# all changes to curr_weight and curr_bound\n",
        "# \t\t\tcurr_weight -= adj[curr_path[level - 1]][i]\n",
        "# \t\t\tcurr_bound = temp\n",
        "\n",
        "# \t\t\t# Also reset the visited array\n",
        "# \t\t\tvisited = [False] * len(visited)\n",
        "# \t\t\tfor j in range(level):\n",
        "# \t\t\t\tif curr_path[j] != -1:\n",
        "# \t\t\t\t\tvisited[curr_path[j]] = True\n",
        "\n",
        "# # This function sets up final_path\n",
        "# def TSP(adj):\n",
        "\n",
        "# \t# Calculate initial lower bound for the root node\n",
        "# \t# using the formula 1/2 * (sum of first min +\n",
        "# \t# second min) for all edges. Also initialize the\n",
        "# \t# curr_path and visited array\n",
        "# \tcurr_bound = 0\n",
        "# \tcurr_path = [-1] * (N + 1)\n",
        "# \tvisited = [False] * N\n",
        "\n",
        "# \t# Compute initial bound\n",
        "# \tfor i in range(N):\n",
        "# \t\tcurr_bound += (firstMin(adj, i) +\n",
        "# \t\t\t\t\tsecondMin(adj, i))\n",
        "\n",
        "# \t# Rounding off the lower bound to an integer\n",
        "# \tcurr_bound = math.ceil(curr_bound / 2)\n",
        "\n",
        "# \t# We start at vertex 1 so the first vertex\n",
        "# \t# in curr_path[] is 0\n",
        "# \tvisited[0] = True\n",
        "# \tcurr_path[0] = 0\n",
        "\n",
        "# \t# Call to TSPRec for curr_weight\n",
        "# \t# equal to 0 and level 1\n",
        "# \tTSPRec(adj, curr_bound, 0, 1, curr_path, visited)"
      ],
      "metadata": {
        "id": "5B7RnrgZBwhh"
      },
      "execution_count": null,
      "outputs": []
    },
    {
      "cell_type": "code",
      "source": [
        "import math\n",
        "import time\n",
        "\n",
        "# Python3 program to solve\n",
        "# Traveling Salesman Problem using Branch and Bound.\n",
        "\n",
        "maxsize = float('inf')\n",
        "\n",
        "# Function to copy temporary solution to the final solution\n",
        "def copyToFinal(curr_path):\n",
        "    final_path[:N + 1] = curr_path[:]\n",
        "    final_path[N] = curr_path[0]\n",
        "\n",
        "# Function to find the minimum edge cost having an end at the vertex i\n",
        "def firstMin(adj, i):\n",
        "    min_val = maxsize\n",
        "    for k in range(N):\n",
        "        if adj[i][k] < min_val and i != k:\n",
        "            min_val = adj[i][k]\n",
        "    return min_val\n",
        "\n",
        "# Function to find the second minimum edge cost having an end at the vertex i\n",
        "def secondMin(adj, i):\n",
        "    first, second = maxsize, maxsize\n",
        "    for j in range(N):\n",
        "        if i == j:\n",
        "            continue\n",
        "        if adj[i][j] <= first:\n",
        "            second = first\n",
        "            first = adj[i][j]\n",
        "        elif adj[i][j] <= second and adj[i][j] != first:\n",
        "            second = adj[i][j]\n",
        "    return second\n",
        "\n",
        "# Recursive function for TSP\n",
        "def TSPRec(adj, curr_bound, curr_weight, level, curr_path, visited):\n",
        "    global final_res\n",
        "\n",
        "    # Base case: All nodes are visited\n",
        "    if level == N:\n",
        "        if adj[curr_path[level - 1]][curr_path[0]] != 0:\n",
        "            curr_res = curr_weight + adj[curr_path[level - 1]][curr_path[0]]\n",
        "            if curr_res < final_res:\n",
        "                copyToFinal(curr_path)\n",
        "                final_res = curr_res\n",
        "        return\n",
        "\n",
        "    # Recursive exploration of next vertices\n",
        "    for i in range(N):\n",
        "        if adj[curr_path[level-1]][i] != 0 and not visited[i]:\n",
        "            temp = curr_bound\n",
        "            curr_weight += adj[curr_path[level - 1]][i]\n",
        "\n",
        "            if level == 1:\n",
        "                curr_bound -= (firstMin(adj, curr_path[level - 1]) +\n",
        "                               firstMin(adj, i)) / 2\n",
        "            else:\n",
        "                curr_bound -= (secondMin(adj, curr_path[level - 1]) +\n",
        "                               firstMin(adj, i)) / 2\n",
        "\n",
        "            if curr_bound + curr_weight < final_res:\n",
        "                curr_path[level] = i\n",
        "                visited[i] = True\n",
        "                TSPRec(adj, curr_bound, curr_weight, level + 1, curr_path, visited)\n",
        "\n",
        "            # Backtrack\n",
        "            curr_weight -= adj[curr_path[level - 1]][i]\n",
        "            curr_bound = temp\n",
        "            visited = [False] * len(visited)\n",
        "            for j in range(level):\n",
        "                if curr_path[j] != -1:\n",
        "                    visited[curr_path[j]] = True\n",
        "\n",
        "# Main function for TSP\n",
        "def TSP(adj):\n",
        "    global final_res, final_path\n",
        "\n",
        "    curr_bound = 0\n",
        "    curr_path = [-1] * (N + 1)\n",
        "    visited = [False] * N\n",
        "\n",
        "    for i in range(N):\n",
        "        curr_bound += (firstMin(adj, i) + secondMin(adj, i))\n",
        "    curr_bound = math.ceil(curr_bound / 2)\n",
        "\n",
        "    visited[0] = True\n",
        "    curr_path[0] = 0\n",
        "    TSPRec(adj, curr_bound, 0, 1, curr_path, visited)\n",
        "\n",
        "# Function to calculate the average runtime\n",
        "def average_runtime(func, adj, runs=10):\n",
        "    runtimes = []\n",
        "    for _ in range(runs):\n",
        "        global final_res, final_path\n",
        "        final_res = maxsize\n",
        "        final_path = [-1] * (N + 1)\n",
        "        start_time = time.time()\n",
        "        func(adj)\n",
        "        end_time = time.time()\n",
        "        runtimes.append(end_time - start_time)\n",
        "    return sum(runtimes) / len(runtimes)\n",
        "\n",
        "# Initialize variables\n",
        "N = len(dist_matrix)\n",
        "final_res = maxsize\n",
        "final_path = [-1] * (N + 1)\n",
        "\n",
        "# Calculate average runtime\n",
        "runs = 1000\n",
        "avg_time = average_runtime(TSP, dist_matrix, runs)\n",
        "\n",
        "# Output the results\n",
        "print(\"Minimum cost:\", final_res)\n",
        "print(\"Path Taken:\", final_path)\n",
        "print(f\"Average runtime over {runs} runs: {avg_time:.6f} seconds\")\n"
      ],
      "metadata": {
        "colab": {
          "base_uri": "https://localhost:8080/"
        },
        "id": "WAXWn8g53bdi",
        "outputId": "0bf9fabc-cb9a-4882-b348-a36db77540d3"
      },
      "execution_count": 12,
      "outputs": [
        {
          "output_type": "stream",
          "name": "stdout",
          "text": [
            "Minimum cost: 7293\n",
            "Path Taken: [0, 7, 2, 3, 4, 12, 6, 8, 1, 11, 10, 5, 9, 0]\n",
            "Average runtime over 1000 runs: 1.306101 seconds\n"
          ]
        }
      ]
    },
    {
      "cell_type": "code",
      "source": [
        "# N = len(dist_matrix)"
      ],
      "metadata": {
        "id": "f-h4EgS7K8iX"
      },
      "execution_count": null,
      "outputs": []
    },
    {
      "cell_type": "code",
      "source": [
        "# # final_path[] stores the final solution\n",
        "# # i.e. the // path of the salesman.\n",
        "# final_path = [None] * (N + 1)\n",
        "\n",
        "# # visited[] keeps track of the already\n",
        "# # visited nodes in a particular path\n",
        "# visited = [False] * N\n",
        "\n",
        "# # Stores the final minimum weight\n",
        "# # of shortest tour.\n",
        "# final_res = maxsize\n",
        "\n",
        "# TSP(dist_matrix)\n",
        "\n",
        "# print(\"Minimum cost :\", final_res)\n",
        "# print(\"Path Taken : \", end = ' ')\n",
        "# for i in range(N + 1):\n",
        "# \tprint(final_path[i], end = ' ')\n",
        "\n",
        "# # This code is contributed by ng24_7"
      ],
      "metadata": {
        "colab": {
          "base_uri": "https://localhost:8080/"
        },
        "id": "EzQVUm1m4bNU",
        "outputId": "f25f2198-0ee7-4702-9369-3d370a61a556"
      },
      "execution_count": null,
      "outputs": [
        {
          "output_type": "stream",
          "name": "stdout",
          "text": [
            "Minimum cost : 7293\n",
            "Path Taken :  0 7 2 3 4 12 6 8 1 11 10 5 9 0 "
          ]
        }
      ]
    },
    {
      "cell_type": "markdown",
      "source": [
        "## Nearest Neighbor Method (Naive Approximation)"
      ],
      "metadata": {
        "id": "2xmDZ2FiB11j"
      }
    },
    {
      "cell_type": "markdown",
      "source": [
        "* Step 1. Select a random city.\n",
        "* Step 2. Find the nearest unvisited city and go there.\n",
        "* Step 3. Are there any unvisited cities left? If yes, repeat step 2.\n",
        "* Step 4. Return to the first city."
      ],
      "metadata": {
        "id": "OGJTr20nEgH-"
      }
    },
    {
      "cell_type": "code",
      "source": [
        "# code from w3schools: https://www.w3schools.com/dsa/dsa_ref_traveling_salesman.php\n",
        "def nearest_neighbor_tsp(distances):\n",
        "    n = len(distances)\n",
        "    visited = [False] * n\n",
        "    route = [0]\n",
        "    visited[0] = True\n",
        "    total_distance = 0\n",
        "\n",
        "    for _ in range(1, n):\n",
        "        last = route[-1]\n",
        "        nearest = None\n",
        "        min_dist = float('inf')\n",
        "        for i in range(n):\n",
        "            if not visited[i] and distances[last][i] < min_dist:\n",
        "                min_dist = distances[last][i]\n",
        "                nearest = i\n",
        "        route.append(nearest)\n",
        "        visited[nearest] = True\n",
        "        total_distance += min_dist\n",
        "\n",
        "    total_distance += distances[route[-1]][0]\n",
        "    route.append(0)\n",
        "    return route, total_distance"
      ],
      "metadata": {
        "id": "x9l7UQB5CEol"
      },
      "execution_count": null,
      "outputs": []
    },
    {
      "cell_type": "code",
      "source": [
        "route, total_distance = nearest_neighbor_tsp(dist_matrix)\n",
        "print(\"Route:\", route)\n",
        "print(\"Total distance:\", total_distance)"
      ],
      "metadata": {
        "colab": {
          "base_uri": "https://localhost:8080/"
        },
        "id": "2zXqQvKZLK8r",
        "outputId": "9143b7c0-3ae2-491a-85e3-187843c0e235"
      },
      "execution_count": null,
      "outputs": [
        {
          "output_type": "stream",
          "name": "stdout",
          "text": [
            "Route: [0, 7, 2, 9, 3, 4, 12, 11, 1, 8, 6, 5, 10, 0]\n",
            "Total distance: 8131\n"
          ]
        }
      ]
    },
    {
      "cell_type": "markdown",
      "source": [
        "# Comparison of Solutions"
      ],
      "metadata": {
        "id": "EEgYj2_DCCIq"
      }
    },
    {
      "cell_type": "code",
      "source": [],
      "metadata": {
        "id": "y9o_Hk0PCEiP"
      },
      "execution_count": null,
      "outputs": []
    }
  ]
}